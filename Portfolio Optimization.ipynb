{
 "cells": [
  {
   "cell_type": "markdown",
   "metadata": {},
   "source": [
    "# Portfolio Optimization\n",
    "### Sample Implementation of the Markowitzify library\n",
    "\n",
    "(C) 2020 Mark M. Bailey, PhD"
   ]
  },
  {
   "cell_type": "markdown",
   "metadata": {},
   "source": [
    "Use this Notebook to optmize a stock portfolio."
   ]
  },
  {
   "cell_type": "code",
   "execution_count": null,
   "metadata": {},
   "outputs": [],
   "source": [
    "!pip install markowitzify\n",
    "import markowitzify"
   ]
  },
  {
   "cell_type": "markdown",
   "metadata": {},
   "source": [
    "### Set Parameters"
   ]
  },
  {
   "cell_type": "code",
   "execution_count": null,
   "metadata": {},
   "outputs": [],
   "source": [
    "# Set to True if you want to analyze a Thrift Savings Plan (Federal Government 401k) portfolio.\n",
    "TSP = False\n",
    "\n",
    "# List of Ticker symbols to include in portfolio (only required if TSP=False).\n",
    "TKR_list = ['AAPL', 'GOOG', 'MSFT', 'SBUX', 'USO']\n",
    "\n",
    "# Number of days from today to collect data (only required if TSP=False).\n",
    "time_delta = 1000\n",
    "\n",
    "# Monte Carlo Parameters\n",
    "days = 1000 # Trading days to project into the future.\n",
    "threshold = 0.2 # Predict probability of \"threshold\" return (0.2 == 20% return)."
   ]
  },
  {
   "cell_type": "markdown",
   "metadata": {},
   "source": [
    "### Instantiate portfolio"
   ]
  },
  {
   "cell_type": "code",
   "execution_count": null,
   "metadata": {},
   "outputs": [],
   "source": [
    "my_portfolio = markowitzify.portfolio()\n",
    "\n",
    "if TSP:\n",
    "    my_portfolio.build_TSP()\n",
    "else:\n",
    "    my_portfolio.build_portfolio(TKR_list=TKR_list, time_delta=time_delta)"
   ]
  },
  {
   "cell_type": "markdown",
   "metadata": {},
   "source": [
    "### Implement NCO Algorithm"
   ]
  },
  {
   "cell_type": "code",
   "execution_count": null,
   "metadata": {},
   "outputs": [],
   "source": [
    "my_portfolio.NCO()\n",
    "\n",
    "print(f'NCO Algorithm \\n {my_portfolio.nco}')"
   ]
  },
  {
   "cell_type": "markdown",
   "metadata": {},
   "source": [
    "### Implement Markowitz Algorithm"
   ]
  },
  {
   "cell_type": "code",
   "execution_count": null,
   "metadata": {},
   "outputs": [],
   "source": [
    "my_portfolio.markowitz()\n",
    "\n",
    "print(f'Markowitz Algorithm \\n {my_portfolio.optimal}')"
   ]
  },
  {
   "cell_type": "markdown",
   "metadata": {},
   "source": [
    "### Calculate Hurst Exponent and Sharpe Ratio"
   ]
  },
  {
   "cell_type": "code",
   "execution_count": null,
   "metadata": {},
   "outputs": [],
   "source": [
    "my_portfolio.hurst()\n",
    "my_portfolio.sharpe_ratio()\n",
    "\n",
    "print(f'Sharpe Ratio: \\n {my_portfolio.sharpe}')"
   ]
  },
  {
   "cell_type": "code",
   "execution_count": null,
   "metadata": {},
   "outputs": [],
   "source": [
    "print(f'Hurst Exponent: \\n {my_portfolio.H}')"
   ]
  },
  {
   "cell_type": "markdown",
   "metadata": {},
   "source": [
    "### Monte Carlo Simulation"
   ]
  },
  {
   "cell_type": "code",
   "execution_count": null,
   "metadata": {},
   "outputs": [],
   "source": [
    "sim = my_portfolio.simulate(threshold=threshold, days=days)\n",
    "\n",
    "print(sim)"
   ]
  },
  {
   "cell_type": "code",
   "execution_count": null,
   "metadata": {},
   "outputs": [],
   "source": []
  }
 ],
 "metadata": {
  "kernelspec": {
   "display_name": "Python 3",
   "language": "python",
   "name": "python3"
  },
  "language_info": {
   "codemirror_mode": {
    "name": "ipython",
    "version": 3
   },
   "file_extension": ".py",
   "mimetype": "text/x-python",
   "name": "python",
   "nbconvert_exporter": "python",
   "pygments_lexer": "ipython3",
   "version": "3.7.4"
  }
 },
 "nbformat": 4,
 "nbformat_minor": 2
}
